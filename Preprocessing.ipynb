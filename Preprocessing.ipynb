{
 "cells": [
  {
   "cell_type": "code",
   "execution_count": 37,
   "metadata": {},
   "outputs": [],
   "source": [
    "import numpy as np\n",
    "import cv2\n",
    "from PIL import Image\n",
    "import imutils\n",
    "from pytesseract import image_to_string\n",
    "\n",
    "def order_points(pts):\n",
    "    rect = np.zeros((4, 2), dtype = \"float32\")\n",
    "    s = pts.sum(axis = 1)\n",
    "    rect[0] = pts[np.argmin(s)]\n",
    "    rect[2] = pts[np.argmax(s)]\n",
    "    diff = np.diff(pts, axis = 1)\n",
    "    rect[1] = pts[np.argmin(diff)]\n",
    "    rect[3] = pts[np.argmax(diff)]\n",
    "    return rect\n",
    "\n",
    "def four_point_transform(image, pts):\n",
    "    rect = order_points(pts)\n",
    "    tl, tr, br, bl = rect\n",
    "    widthA = np.sqrt(((br[0] - bl[0]) ** 2) + ((br[1] - bl[1]) ** 2))\n",
    "    widthB = np.sqrt(((tr[0] - tl[0]) ** 2) + ((tr[1] - tl[1]) ** 2))\n",
    "    maxWidth = max(int(widthA), int(widthB))\n",
    "    heightA = np.sqrt(((tr[0] - br[0]) ** 2) + ((tr[1] - br[1]) ** 2))\n",
    "    heightB = np.sqrt(((tl[0] - bl[0]) ** 2) + ((tl[1] - bl[1]) ** 2))\n",
    "    maxHeight = max(int(heightA), int(heightB))\n",
    "    dst = np.array([[0, 0], [maxWidth - 1, 0], [maxWidth - 1, maxHeight - 1], [0, maxHeight - 1]], dtype = \"float32\")\n",
    "    M = cv2.getPerspectiveTransform(rect, dst)\n",
    "    warped = cv2.warpPerspective(image, M, (maxWidth, maxHeight))\n",
    "    return warped\n",
    "\n",
    "def get_photo(card):\n",
    "    photo_h1 = round(0.28*card_height)\n",
    "    photo_h2 = round(0.76*card_height)\n",
    "    photo_w1 = round(0.0036*card_width)\n",
    "    photo_w2 = round(0.233*card_width)\n",
    "    photo = card[photo_h1: photo_h2, photo_w1: photo_w2]\n",
    "    cv2.imwrite('Result/Card.jpg', card)\n",
    "    cv2.imwrite('Result/Photo.jpg', photo)\n",
    "    \n",
    "def get_id(card):\n",
    "    ID_h1 = round(0.9*card_height)\n",
    "    ID_h2 = round(0.9799*card_height)\n",
    "    ID_w1 = round(0.003*card_width)\n",
    "    ID_w2 = round(0.23*card_width)\n",
    "    ID = card[ID_h1: ID_h2, ID_w1: ID_w2]\n",
    "    ID = cv2.cvtColor(ID, cv2.COLOR_BGR2GRAY)\n",
    "    cv2.imwrite('Result/ID.jpg', ID)\n",
    "    return image_to_string(Image.open('Result/ID.jpg'), lang='vie')\n",
    "    \n",
    "def get_name(card):\n",
    "    name_h1 = round(0.356*card_height)\n",
    "    name_h2 = round(0.47*card_height)\n",
    "    name_w1 = round(0.238*card_width)\n",
    "    name_w2 = round(0.96*card_width)\n",
    "    name = card[name_h1: name_h2, name_w1: name_w2]\n",
    "    name = cv2.cvtColor(name, cv2.COLOR_BGR2GRAY)\n",
    "    retval2, name = cv2.threshold(name, 125, 255, cv2.THRESH_BINARY+cv2.THRESH_OTSU)\n",
    "    cv2.imwrite('Result/Name.jpg', name)\n",
    "    return image_to_string(Image.open('Result/Name.jpg'), lang='vie')\n",
    "\n",
    "def get_birth_day(card):    \n",
    "    dob_h1 = round(0.45*card_height)\n",
    "    dob_h2 = round(0.545*card_height)\n",
    "    dob_w1 = round(0.238*card_width)\n",
    "    dob_w2 = round(0.647*card_width)\n",
    "    dob = card[dob_h1: dob_h2, dob_w1: dob_w2]\n",
    "    dob = cv2.cvtColor(dob, cv2.COLOR_BGR2GRAY)\n",
    "    retval2, dob = cv2.threshold(dob, 125, 255, cv2.THRESH_BINARY + cv2.THRESH_OTSU)\n",
    "    cv2.imwrite('Result/Date_of_Birth.jpg', dob)\n",
    "    return image_to_string(Image.open('Result/Date_of_Birth.jpg'), lang='vie')\n",
    "\n",
    "def get_info(card):\n",
    "    get_photo(card)\n",
    "    ID = get_id(card)\n",
    "    Name = get_name(card)[get_name(card).rfind(':') + 2 :]\n",
    "    Date_of_Birth = get_birth_day(card)[get_birth_day(card).rfind(':') + 2 :]\n",
    "    result = [Name, ID, Date_of_Birth]\n",
    "    return result"
   ]
  },
  {
   "cell_type": "code",
   "execution_count": 86,
   "metadata": {},
   "outputs": [
    {
     "data": {
      "text/plain": [
       "['Đỗ Việt Anh ‡', 'B17DCCN009', '03/04/1999']"
      ]
     },
     "execution_count": 86,
     "metadata": {},
     "output_type": "execute_result"
    }
   ],
   "source": [
    "img = cv2.imread('test/image.jpg')\n",
    "h, w, c = img.shape\n",
    "while(h > 3000 or w > 3000):\n",
    "    h = int(h/2.5)\n",
    "    w = int(w/2.5)\n",
    "    c = 1\n",
    "if c == 1:\n",
    "    img = cv2.resize(img, (w, h))\n",
    "origin = img.copy()\n",
    "gray = cv2.cvtColor(img, cv2.COLOR_BGR2GRAY)\n",
    "gray = cv2.GaussianBlur(gray, (5, 5), 0)\n",
    "edges = cv2.Canny(gray, 100, 250)\n",
    "#ret, edges = cv2.threshold(gray, 0, 255, cv2.THRESH_BINARY_INV|cv2.THRESH_OTSU)\n",
    "kernel = cv2.getStructuringElement(cv2.MORPH_RECT, (7, 7))\n",
    "closed = cv2.morphologyEx(edges, cv2.MORPH_CLOSE, kernel)\n",
    "cnts = cv2.findContours(closed.copy(), cv2.RETR_LIST, cv2.CHAIN_APPROX_SIMPLE)\n",
    "cnts = cnts[0] if imutils.is_cv2() else cnts[1]\n",
    "cnts = sorted(cnts, key = cv2.contourArea, reverse = True)[:5]\n",
    "for c in cnts:\n",
    "    peri = cv2.arcLength(c, True)\n",
    "    approx = cv2.approxPolyDP(c, 0.01*peri, True)\n",
    "    screenCnt = 0\n",
    "    if len(approx == 4):\n",
    "        screenCnt = approx\n",
    "        break\n",
    "cv2.drawContours(img, [screenCnt], -1, (0, 255, 0), 5)\n",
    "card = four_point_transform(origin, screenCnt.reshape(4, 2))\n",
    "card_height, card_width, channels = card.shape\n",
    "#cv2.imshow('Card', edges)\n",
    "cv2.waitKey(0)\n",
    "cv2.destroyAllWindows()\n",
    "cv2.imwrite('Result/Card.jpg', card)\n",
    "cv2.imwrite('Result/Image_detected.jpg', img)\n",
    "card = cv2.imread('Result/Card.jpg')\n",
    "get_info(card)"
   ]
  },
  {
   "cell_type": "code",
   "execution_count": 84,
   "metadata": {},
   "outputs": [
    {
     "data": {
      "text/plain": [
       "True"
      ]
     },
     "execution_count": 84,
     "metadata": {},
     "output_type": "execute_result"
    }
   ],
   "source": [
    "img = cv2.imread('test/IMG_3078.JPG')\n",
    "h, w, c = img.shape\n",
    "while(h > 3000 or w > 3000):\n",
    "    h = int(h/2.5)\n",
    "    w = int(w/2.5)\n",
    "    c = 1\n",
    "if c == 1:\n",
    "    img = cv2.resize(img, (w, h))\n",
    "origin = img.copy()\n",
    "gray = cv2.cvtColor(img, cv2.COLOR_BGR2GRAY)\n",
    "gray = cv2.GaussianBlur(gray, (5, 5), 0)\n",
    "edges = cv2.Canny(gray, 100, 250)\n",
    "lines = cv2.HoughLinesP(edges, 1, np.pi/180, 50, 60, 10)\n",
    "xmin = 1e9\n",
    "xmax = 0\n",
    "ymin = 1e9\n",
    "ymax = 0\n",
    "for line in lines:\n",
    "    for x1, y1, x2, y2 in line:\n",
    "        #cv2.line(img, (x1, y1), (x2, y2), (0, 255, 0), 2)\n",
    "        xmin = min(xmin, min(x1, x2))\n",
    "        xmax = max(xmax, max(x1, x2))\n",
    "        ymin = min(ymin, min(y1, y2))\n",
    "        ymax = max(ymax, max(y1, y2))\n",
    "screenCnt = np.ndarray(shape = (4, 2), dtype=int)\n",
    "for line in lines:\n",
    "    for x1, y1, x2, y2 in line:\n",
    "        if x1 == xmin or x2 == xmin:\n",
    "            screenCnt[1] = xmin, (y1 if x1 == xmin else y2)\n",
    "        if x1 == xmax or x2 == xmax:\n",
    "            screenCnt[3] = xmax, (y2 if x2 == xmax else y1)\n",
    "        if y1 == ymin or y2 == ymin:\n",
    "            screenCnt[0] = (x1 if y1 == ymin else x2), ymin\n",
    "        if y1 == ymax or y2 == ymax:\n",
    "            screenCnt[2] = (x2 if y2 == ymax else x1), ymax\n",
    "#cv2.rectangle(img, (xmin, ymin), (xmax, ymax), (0, 255, 0), 2)\n",
    "cv2.drawContours(img, [screenCnt], -1, (0, 255, 0), 5)\n",
    "card = four_point_transform(origin, screenCnt.reshape(4, 2))\n",
    "#card_height, card_width, channels = card.shape\n",
    "#cv2.imshow('Card', img)\n",
    "cv2.waitKey(0)\n",
    "cv2.destroyAllWindows()\n",
    "cv2.imwrite('Result/Card.jpg', card)\n",
    "cv2.imwrite('Result/Image_detected.jpg', img)\n",
    "#card = cv2.imread('Result/Card.jpg')\n",
    "#get_info(card)"
   ]
  },
  {
   "cell_type": "code",
   "execution_count": 78,
   "metadata": {},
   "outputs": [
    {
     "data": {
      "text/plain": [
       "array([[437,  66],\n",
       "       [159, 385],\n",
       "       [634, 818],\n",
       "       [949, 504]])"
      ]
     },
     "execution_count": 78,
     "metadata": {},
     "output_type": "execute_result"
    }
   ],
   "source": [
    "screenCnt"
   ]
  },
  {
   "cell_type": "code",
   "execution_count": 76,
   "metadata": {},
   "outputs": [
    {
     "data": {
      "text/plain": [
       "array([[[445,  62]],\n",
       "\n",
       "       [[154, 376]],\n",
       "\n",
       "       [[682, 840]],\n",
       "\n",
       "       [[954, 511]]], dtype=int32)"
      ]
     },
     "execution_count": 76,
     "metadata": {},
     "output_type": "execute_result"
    }
   ],
   "source": [
    "screenCnt"
   ]
  },
  {
   "cell_type": "code",
   "execution_count": 55,
   "metadata": {},
   "outputs": [],
   "source": [
    "a = np.ndarray(shape = (4, 2), dtype=int)"
   ]
  },
  {
   "cell_type": "code",
   "execution_count": 62,
   "metadata": {},
   "outputs": [],
   "source": [
    "a[0] = xmin, ymin\n",
    "a[1] = xmax, ymin\n",
    "a[2] = xmax, ymax\n",
    "a[3] = xmin, ymax"
   ]
  },
  {
   "cell_type": "code",
   "execution_count": 63,
   "metadata": {},
   "outputs": [
    {
     "data": {
      "text/plain": [
       "array([[159,  66],\n",
       "       [949,  66],\n",
       "       [949, 818],\n",
       "       [159, 818]])"
      ]
     },
     "execution_count": 63,
     "metadata": {},
     "output_type": "execute_result"
    }
   ],
   "source": [
    "a"
   ]
  },
  {
   "cell_type": "code",
   "execution_count": null,
   "metadata": {},
   "outputs": [],
   "source": []
  },
  {
   "cell_type": "code",
   "execution_count": null,
   "metadata": {},
   "outputs": [],
   "source": []
  },
  {
   "cell_type": "code",
   "execution_count": null,
   "metadata": {},
   "outputs": [],
   "source": []
  },
  {
   "cell_type": "code",
   "execution_count": null,
   "metadata": {},
   "outputs": [],
   "source": []
  },
  {
   "cell_type": "code",
   "execution_count": null,
   "metadata": {},
   "outputs": [],
   "source": []
  },
  {
   "cell_type": "code",
   "execution_count": null,
   "metadata": {},
   "outputs": [],
   "source": []
  },
  {
   "cell_type": "code",
   "execution_count": null,
   "metadata": {},
   "outputs": [],
   "source": []
  },
  {
   "cell_type": "code",
   "execution_count": null,
   "metadata": {},
   "outputs": [],
   "source": [
    "\n"
   ]
  },
  {
   "cell_type": "code",
   "execution_count": null,
   "metadata": {},
   "outputs": [],
   "source": []
  },
  {
   "cell_type": "code",
   "execution_count": null,
   "metadata": {},
   "outputs": [],
   "source": []
  },
  {
   "cell_type": "code",
   "execution_count": null,
   "metadata": {},
   "outputs": [],
   "source": []
  },
  {
   "cell_type": "code",
   "execution_count": null,
   "metadata": {},
   "outputs": [],
   "source": []
  },
  {
   "cell_type": "code",
   "execution_count": null,
   "metadata": {},
   "outputs": [],
   "source": []
  },
  {
   "cell_type": "code",
   "execution_count": null,
   "metadata": {},
   "outputs": [],
   "source": []
  }
 ],
 "metadata": {
  "kernelspec": {
   "display_name": "Python 3",
   "language": "python",
   "name": "python3"
  },
  "language_info": {
   "codemirror_mode": {
    "name": "ipython",
    "version": 3
   },
   "file_extension": ".py",
   "mimetype": "text/x-python",
   "name": "python",
   "nbconvert_exporter": "python",
   "pygments_lexer": "ipython3",
   "version": "3.7.1"
  }
 },
 "nbformat": 4,
 "nbformat_minor": 2
}
