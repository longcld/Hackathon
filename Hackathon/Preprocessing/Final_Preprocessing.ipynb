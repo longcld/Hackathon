{
 "cells": [
  {
   "cell_type": "code",
   "execution_count": 240,
   "metadata": {},
   "outputs": [
    {
     "data": {
      "text/plain": [
       "['Đỗ Việt Anh', 'B17DCCN009', '03/01/1999']"
      ]
     },
     "execution_count": 240,
     "metadata": {},
     "output_type": "execute_result"
    }
   ],
   "source": [
    "import numpy as np\n",
    "import cv2\n",
    "from PIL import Image\n",
    "import imutils\n",
    "from pytesseract import image_to_string\n",
    "\n",
    "def order_points(pts):\n",
    "    rect = np.zeros((4, 2), dtype = \"float32\")\n",
    "    s = pts.sum(axis = 1)\n",
    "    rect[0] = pts[np.argmin(s)]\n",
    "    rect[2] = pts[np.argmax(s)]\n",
    "    diff = np.diff(pts, axis = 1)\n",
    "    rect[1] = pts[np.argmin(diff)]\n",
    "    rect[3] = pts[np.argmax(diff)]\n",
    "    return rect\n",
    "\n",
    "def four_point_transform(image, pts):\n",
    "    rect = order_points(pts)\n",
    "    tl, tr, br, bl = rect\n",
    "    widthA = np.sqrt(((br[0] - bl[0]) ** 2) + ((br[1] - bl[1]) ** 2))\n",
    "    widthB = np.sqrt(((tr[0] - tl[0]) ** 2) + ((tr[1] - tl[1]) ** 2))\n",
    "    maxWidth = max(int(widthA), int(widthB))\n",
    "    heightA = np.sqrt(((tr[0] - br[0]) ** 2) + ((tr[1] - br[1]) ** 2))\n",
    "    heightB = np.sqrt(((tl[0] - bl[0]) ** 2) + ((tl[1] - bl[1]) ** 2))\n",
    "    maxHeight = max(int(heightA), int(heightB))\n",
    "    dst = np.array([[0, 0], [maxWidth - 1, 0], [maxWidth - 1, maxHeight - 1], [0, maxHeight - 1]], dtype = \"float32\")\n",
    "    M = cv2.getPerspectiveTransform(rect, dst)\n",
    "    warped = cv2.warpPerspective(image, M, (maxWidth, maxHeight))\n",
    "    return warped\n",
    "\n",
    "def get_photo(card):\n",
    "    photo_h1 = int(0.28*card_height)\n",
    "    photo_h2 = int(0.76*card_height)\n",
    "    photo_w1 = int(0.0036*card_width)\n",
    "    photo_w2 = int(0.233*card_width)\n",
    "    photo = card[photo_h1: photo_h2, photo_w1: photo_w2]\n",
    "    cv2.imwrite('Result/Card.jpg', card)\n",
    "    cv2.imwrite('Result/Photo.jpg', photo)\n",
    "    \n",
    "def get_id(card):\n",
    "    id_h1 = int(0.88*card_height)\n",
    "    id_h2 = card_height\n",
    "    id_w1 = int(0.003*card_width)\n",
    "    id_w2 = int(0.227*card_width)\n",
    "    id_sv = card[id_h1: id_h2, id_w1: id_w2]\n",
    "    id_sv = cv2.cvtColor(id_sv, cv2.COLOR_BGR2GRAY)\n",
    "    cv2.imwrite('Result/ID.jpg', id_sv)\n",
    "    return image_to_string(Image.open('Result/ID.jpg'), lang='vie')\n",
    "    \n",
    "def get_name(card):\n",
    "    name_h1 = int(0.356*card_height)\n",
    "    name_h2 = int(0.45*card_height)\n",
    "    name_w1 = int(0.238*card_width)\n",
    "    name_w2 = int(0.96*card_width)\n",
    "    name = card[name_h1: name_h2, name_w1: name_w2]\n",
    "    name = cv2.cvtColor(name, cv2.COLOR_BGR2GRAY)\n",
    "    cv2.imwrite('Result/Name.jpg', name)\n",
    "    return image_to_string(Image.open('Result/Name.jpg'), lang='vie')\n",
    "\n",
    "def get_birth_day(card):    \n",
    "    dob_h1 = int(0.45*card_height)\n",
    "    dob_h2 = int(0.545*card_height)\n",
    "    dob_w1 = int(0.238*card_width)\n",
    "    dob_w2 = int(0.647*card_width)\n",
    "    dob = card[dob_h1: dob_h2, dob_w1: dob_w2]\n",
    "    dob = cv2.cvtColor(dob, cv2.COLOR_BGR2GRAY)\n",
    "    dob = cv2.bilateralFilter(dob, 9, 75, 75)\n",
    "    cv2.imwrite('Result/Date_of_Birth.jpg', dob)\n",
    "    return image_to_string(Image.open('Result/Date_of_Birth.jpg'), lang='vie')\n",
    "\n",
    "def get_card(img):\n",
    "    h, w, c = img.shape\n",
    "    gray = cv2.cvtColor(img, cv2.COLOR_BGR2GRAY)\n",
    "    gray = cv2.GaussianBlur(gray, (5, 5), 0)\n",
    "    edges = cv2.Canny(gray, 100, 250)\n",
    "    kernel = cv2.getStructuringElement(cv2.MORPH_RECT, (7, 7))\n",
    "    closed = cv2.morphologyEx(edges, cv2.MORPH_CLOSE, kernel)\n",
    "    cnts = cv2.findContours(closed.copy(), cv2.RETR_LIST, cv2.CHAIN_APPROX_SIMPLE)\n",
    "    cnts = cnts[0] if imutils.is_cv2() else cnts[1]\n",
    "    cnts = sorted(cnts, key = cv2.contourArea, reverse = True)[:5]\n",
    "    for c in cnts:\n",
    "        peri = cv2.arcLength(c, True)\n",
    "        approx = cv2.approxPolyDP(c, 0.02*peri, True)\n",
    "        if len(approx == 4):\n",
    "            screenCnt = approx\n",
    "            break\n",
    "    cv2.drawContours(img, [screenCnt], -1, (0, 255, 0), 10)\n",
    "    card = four_point_transform(origin, screenCnt.reshape(4, 2))\n",
    "    card_height, card_width, channels = card.shape\n",
    "    cv2.imwrite('Result/Card.jpg', card)\n",
    "    cv2.imwrite('Result/Image_detected.jpg', img)\n",
    "    \n",
    "def get_info(card):\n",
    "    get_photo(card)\n",
    "    ID = get_id(card)\n",
    "    Name = get_name(card)[get_name(card).find(':') + 2 :]\n",
    "    Date_of_Birth = get_birth_day(card)[get_birth_day(card).find(':') + 2 :]\n",
    "    result = [Name, ID, Date_of_Birth]\n",
    "    return result\n",
    "\n",
    "def total():\n",
    "    img = cv2.imread('test/IMG_0610.JPG')\n",
    "    get_card(img)\n",
    "    card = cv2.imread('Result/Card.jpg')\n",
    "    card_height, card_width, channels = card.shape\n",
    "    return get_info(card)\n",
    "total()"
   ]
  },
  {
   "cell_type": "code",
   "execution_count": null,
   "metadata": {},
   "outputs": [],
   "source": []
  },
  {
   "cell_type": "code",
   "execution_count": 233,
   "metadata": {},
   "outputs": [],
   "source": []
  },
  {
   "cell_type": "code",
   "execution_count": 235,
   "metadata": {},
   "outputs": [],
   "source": []
  },
  {
   "cell_type": "code",
   "execution_count": null,
   "metadata": {},
   "outputs": [],
   "source": []
  },
  {
   "cell_type": "code",
   "execution_count": null,
   "metadata": {},
   "outputs": [],
   "source": []
  },
  {
   "cell_type": "code",
   "execution_count": null,
   "metadata": {},
   "outputs": [],
   "source": []
  },
  {
   "cell_type": "code",
   "execution_count": null,
   "metadata": {},
   "outputs": [],
   "source": []
  },
  {
   "cell_type": "code",
   "execution_count": null,
   "metadata": {},
   "outputs": [],
   "source": []
  },
  {
   "cell_type": "code",
   "execution_count": null,
   "metadata": {},
   "outputs": [],
   "source": []
  },
  {
   "cell_type": "code",
   "execution_count": null,
   "metadata": {},
   "outputs": [],
   "source": []
  }
 ],
 "metadata": {
  "kernelspec": {
   "display_name": "Python 3",
   "language": "python",
   "name": "python3"
  },
  "language_info": {
   "codemirror_mode": {
    "name": "ipython",
    "version": 3
   },
   "file_extension": ".py",
   "mimetype": "text/x-python",
   "name": "python",
   "nbconvert_exporter": "python",
   "pygments_lexer": "ipython3",
   "version": "3.7.0"
  }
 },
 "nbformat": 4,
 "nbformat_minor": 2
}
