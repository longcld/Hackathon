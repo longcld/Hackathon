{
 "cells": [
  {
   "cell_type": "code",
   "execution_count": 50,
   "metadata": {},
   "outputs": [],
   "source": [
    "import cv2\n",
    "import numpy as np"
   ]
  },
  {
   "cell_type": "code",
   "execution_count": 51,
   "metadata": {},
   "outputs": [
    {
     "data": {
      "text/plain": [
       "(960, 720, 3)"
      ]
     },
     "execution_count": 51,
     "metadata": {},
     "output_type": "execute_result"
    }
   ],
   "source": [
    "img = cv2.imread('sv1.jpg')\n",
    "img.shape"
   ]
  },
  {
   "cell_type": "code",
   "execution_count": 52,
   "metadata": {},
   "outputs": [],
   "source": [
    "img = cv2.resize(img, (600, 500))"
   ]
  },
  {
   "cell_type": "code",
   "execution_count": 53,
   "metadata": {},
   "outputs": [],
   "source": [
    "gray = cv2.cvtColor(img, cv2.COLOR_BGR2GRAY)"
   ]
  },
  {
   "cell_type": "code",
   "execution_count": 54,
   "metadata": {},
   "outputs": [],
   "source": [
    "bilate = cv2.bilateralFilter(gray,9,75,75)"
   ]
  },
  {
   "cell_type": "code",
   "execution_count": 55,
   "metadata": {},
   "outputs": [],
   "source": [
    "gaussian = cv2.GaussianBlur(gray, (5, 5), 2, 2)"
   ]
  },
  {
   "cell_type": "code",
   "execution_count": 56,
   "metadata": {},
   "outputs": [],
   "source": [
    "canny = cv2.Canny(img, 100, 200, 3)\n",
    "canny2 = cv2.Canny(gray, 100, 200, 3)"
   ]
  },
  {
   "cell_type": "code",
   "execution_count": 57,
   "metadata": {},
   "outputs": [
    {
     "data": {
      "text/plain": [
       "(55, 1, 4)"
      ]
     },
     "execution_count": 57,
     "metadata": {},
     "output_type": "execute_result"
    }
   ],
   "source": [
    "lines = cv2.HoughLinesP(canny, 1, np.pi/180, 100, 100, 10)\n",
    "lines.shape"
   ]
  },
  {
   "cell_type": "code",
   "execution_count": 58,
   "metadata": {},
   "outputs": [],
   "source": [
    "xmin = 1e9\n",
    "xmax = 0\n",
    "ymin = 1e9\n",
    "ymax = 0;"
   ]
  },
  {
   "cell_type": "code",
   "execution_count": null,
   "metadata": {},
   "outputs": [],
   "source": [
    "for line in lines:"
   ]
  },
  {
   "cell_type": "code",
   "execution_count": 45,
   "metadata": {},
   "outputs": [
    {
     "data": {
      "text/plain": [
       "1.8155737704918034"
      ]
     },
     "execution_count": 45,
     "metadata": {},
     "output_type": "execute_result"
    }
   ],
   "source": []
  },
  {
   "cell_type": "code",
   "execution_count": 59,
   "metadata": {},
   "outputs": [],
   "source": [
    "for line in lines:\n",
    "    #print(line)\n",
    "    for x1, y1, x2, y2 in line:\n",
    "        cv2.line(img, (x1, y1), (x2, y2), (0, 255, 0), 2)\n",
    "        xmin = min(xmin, min(x1, x2))\n",
    "        ymin = min(ymin, min(y1, y2))\n",
    "        xmax = max(xmax, max(x1, x2))\n",
    "        ymax = max(ymax, max(y1, y2))"
   ]
  },
  {
   "cell_type": "code",
   "execution_count": 61,
   "metadata": {},
   "outputs": [
    {
     "data": {
      "text/plain": [
       "array([[[116, 115,  71],\n",
       "        [118, 116,  73],\n",
       "        [116, 114,  73],\n",
       "        ...,\n",
       "        [ 25,  16,  13],\n",
       "        [ 24,  15,  12],\n",
       "        [ 25,  16,  13]],\n",
       "\n",
       "       [[122, 118,  74],\n",
       "        [123, 120,  76],\n",
       "        [118, 116,  74],\n",
       "        ...,\n",
       "        [ 25,  15,  13],\n",
       "        [ 25,  15,  13],\n",
       "        [ 25,  16,  13]],\n",
       "\n",
       "       [[122, 117,  72],\n",
       "        [126, 121,  76],\n",
       "        [122, 116,  74],\n",
       "        ...,\n",
       "        [ 25,  16,  13],\n",
       "        [ 26,  16,  14],\n",
       "        [ 25,  16,  12]],\n",
       "\n",
       "       ...,\n",
       "\n",
       "       [[ 79,  88, 101],\n",
       "        [ 84,  93, 107],\n",
       "        [ 95, 102, 117],\n",
       "        ...,\n",
       "        [ 20,  12,  12],\n",
       "        [ 19,  11,   9],\n",
       "        [ 17,  10,   7]],\n",
       "\n",
       "       [[ 76,  85,  99],\n",
       "        [ 79,  88, 102],\n",
       "        [ 84,  91, 106],\n",
       "        ...,\n",
       "        [ 18,  14,  10],\n",
       "        [ 17,  12,   9],\n",
       "        [ 15,  10,   7]],\n",
       "\n",
       "       [[ 72,  81,  95],\n",
       "        [ 80,  89, 103],\n",
       "        [ 80,  89, 103],\n",
       "        ...,\n",
       "        [ 13,  10,   6],\n",
       "        [ 14,  10,   6],\n",
       "        [ 13,   8,   6]]], dtype=uint8)"
      ]
     },
     "execution_count": 61,
     "metadata": {},
     "output_type": "execute_result"
    }
   ],
   "source": [
    "cv2.rectangle(img, (xmin, ymin), (xmax, ymax), (0, 0, 255), 2)"
   ]
  },
  {
   "cell_type": "code",
   "execution_count": 62,
   "metadata": {},
   "outputs": [],
   "source": [
    "cv2.imshow('gray', canny)\n",
    "cv2.imshow('gaussian', canny2)\n",
    "cv2.imshow('bilate', img)\n",
    "cv2.waitKey(0)\n",
    "cv2.destroyAllWindows()"
   ]
  },
  {
   "cell_type": "code",
   "execution_count": null,
   "metadata": {},
   "outputs": [],
   "source": []
  },
  {
   "cell_type": "code",
   "execution_count": null,
   "metadata": {},
   "outputs": [],
   "source": []
  },
  {
   "cell_type": "code",
   "execution_count": null,
   "metadata": {},
   "outputs": [],
   "source": []
  },
  {
   "cell_type": "code",
   "execution_count": null,
   "metadata": {},
   "outputs": [],
   "source": []
  },
  {
   "cell_type": "code",
   "execution_count": null,
   "metadata": {},
   "outputs": [],
   "source": []
  },
  {
   "cell_type": "code",
   "execution_count": null,
   "metadata": {},
   "outputs": [],
   "source": []
  },
  {
   "cell_type": "code",
   "execution_count": null,
   "metadata": {},
   "outputs": [],
   "source": []
  }
 ],
 "metadata": {
  "kernelspec": {
   "display_name": "Python 3",
   "language": "python",
   "name": "python3"
  },
  "language_info": {
   "codemirror_mode": {
    "name": "ipython",
    "version": 3
   },
   "file_extension": ".py",
   "mimetype": "text/x-python",
   "name": "python",
   "nbconvert_exporter": "python",
   "pygments_lexer": "ipython3",
   "version": "3.7.0"
  }
 },
 "nbformat": 4,
 "nbformat_minor": 2
}
